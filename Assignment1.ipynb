{
 "cells": [
  {
   "cell_type": "markdown",
   "id": "22377a8e-cbcb-45e6-87eb-2b4b104faa38",
   "metadata": {},
   "source": [
    "#Q.1)\n",
    "#For loop is used to iterate over a sequence of items. Eg. list, tuple, etc.\n",
    "#While loop is used when we want to repeat a block of code until a cerain condition is met."
   ]
  },
  {
   "cell_type": "code",
   "execution_count": 7,
   "id": "6420017d-730b-49d8-ad70-2560d12b7536",
   "metadata": {},
   "outputs": [
    {
     "name": "stdout",
     "output_type": "stream",
     "text": [
      "pen\n",
      "notebook\n",
      "pencil\n",
      "lunch box\n"
     ]
    }
   ],
   "source": [
    "#for loop example.\n",
    "items = ['pen', 'notebook', 'pencil', 'lunch box']\n",
    "\n",
    "for item in items:\n",
    "    print(item)\n"
   ]
  },
  {
   "cell_type": "code",
   "execution_count": 8,
   "id": "42ed231d-860c-4ac0-8af8-e6855cc6492e",
   "metadata": {},
   "outputs": [
    {
     "name": "stdout",
     "output_type": "stream",
     "text": [
      "pen\n",
      "notebook\n",
      "pencil\n",
      "lunch box\n"
     ]
    }
   ],
   "source": [
    "#While loop example:\n",
    "length = len(items)\n",
    "index = 0\n",
    "while index < length:\n",
    "    print(items[index])\n",
    "    index += 1"
   ]
  },
  {
   "cell_type": "markdown",
   "id": "a7f14ec8-3164-4b86-898a-f2291249d178",
   "metadata": {},
   "source": [
    "#Q.2) Sum and Product of first 10 ntural number using for loop and while loop."
   ]
  },
  {
   "cell_type": "code",
   "execution_count": 12,
   "id": "ad86d075-f9eb-42c2-a345-096086de6b1b",
   "metadata": {},
   "outputs": [
    {
     "name": "stdout",
     "output_type": "stream",
     "text": [
      "Sum of first 10 natural number is 55\n",
      "product of first 10 natural number is 3628800\n"
     ]
    }
   ],
   "source": [
    "sum = 0\n",
    "product = 1\n",
    "for i in range(1,11,1):\n",
    "    sum = sum + i\n",
    "    product = product * i\n",
    "print(\"Sum of first 10 natural number is\",sum)\n",
    "print(\"product of first 10 natural number is\",product)"
   ]
  },
  {
   "cell_type": "code",
   "execution_count": 15,
   "id": "c1ccde3a-a1bb-4292-b20d-7a5d200d86ef",
   "metadata": {},
   "outputs": [
    {
     "name": "stdout",
     "output_type": "stream",
     "text": [
      "Sum of first 10 natural number is 55\n",
      "product of first 10 natural number is 3628800\n"
     ]
    }
   ],
   "source": [
    "sum = 0\n",
    "product = 1\n",
    "i = 1\n",
    "while i <= 10:\n",
    "    sum = sum + i\n",
    "    product = product * i\n",
    "    i += 1\n",
    "print(\"Sum of first 10 natural number is\",sum)\n",
    "print(\"product of first 10 natural number is\",product)"
   ]
  },
  {
   "cell_type": "markdown",
   "id": "62813f76-b4e8-4ba3-8e30-f6849180a37d",
   "metadata": {},
   "source": [
    "#Q.3)Program to compute the electricity bill for a household."
   ]
  },
  {
   "cell_type": "code",
   "execution_count": 24,
   "id": "8884181a-bbec-41e1-b6b7-20e9ee92eba7",
   "metadata": {},
   "outputs": [
    {
     "name": "stdin",
     "output_type": "stream",
     "text": [
      "Enter your consumed units in a month 310\n"
     ]
    },
    {
     "name": "stdout",
     "output_type": "stream",
     "text": [
      "Total electricity bill is 2250.0\n"
     ]
    }
   ],
   "source": [
    "units = int(input(\"Enter your consumed units in a month\"))\n",
    "\n",
    "if units > 300:\n",
    "    units = units - 300\n",
    "    bill = 100*4.5 + 100*6 + 100*10 + units*20\n",
    "elif units > 200:\n",
    "    units = units - 200\n",
    "    bill = 100*4.5 + 100*6 + units*10\n",
    "elif units > 100:\n",
    "    units = units - 100\n",
    "    bill = 100*4.5 + units*6\n",
    "else:\n",
    "    bill = units*4.5\n",
    "    \n",
    "print(\"Total electricity bill is\",bill)\n"
   ]
  },
  {
   "cell_type": "markdown",
   "id": "fc0c7b5f-7b0c-4304-a26b-db0f2da53464",
   "metadata": {},
   "source": [
    "#Q.4)Program to list the numbers from 1 to 100 whose cube is divisible by 4 or 5."
   ]
  },
  {
   "cell_type": "code",
   "execution_count": 36,
   "id": "c7b24f08-cc07-4e2a-8756-faf15aa7109e",
   "metadata": {},
   "outputs": [
    {
     "name": "stdout",
     "output_type": "stream",
     "text": [
      "[2, 4, 5, 6, 8, 10, 12, 14, 15, 16, 18, 20, 22, 24, 25, 26, 28, 30, 32, 34, 35, 36, 38, 40, 42, 44, 45, 46, 48, 50, 52, 54, 55, 56, 58, 60, 62, 64, 65, 66, 68, 70, 72, 74, 75, 76, 78, 80, 82, 84, 85, 86, 88, 90, 92, 94, 95, 96, 98, 100]\n"
     ]
    }
   ],
   "source": [
    "#Created a lst of numbers from 1 to 100.\n",
    "l1 = list(range(1,101))\n",
    "\n",
    "#Using for loop:\n",
    "l2 = []          \n",
    "for i in l1:\n",
    "    cube = i**3\n",
    "    if cube % 4 == 0 or cube % 5 == 0:\n",
    "          l2.append(i)\n",
    "\n",
    "print(l2)  "
   ]
  },
  {
   "cell_type": "code",
   "execution_count": 41,
   "id": "3bd34e46-8a6b-4710-bd99-9f19f0483240",
   "metadata": {},
   "outputs": [
    {
     "name": "stdout",
     "output_type": "stream",
     "text": [
      "[2, 4, 5, 6, 8, 10, 12, 14, 15, 16, 18, 20, 22, 24, 25, 26, 28, 30, 32, 34, 35, 36, 38, 40, 42, 44, 45, 46, 48, 50, 52, 54, 55, 56, 58, 60, 62, 64, 65, 66, 68, 70, 72, 74, 75, 76, 78, 80, 82, 84, 85, 86, 88, 90, 92, 94, 95, 96, 98, 100]\n"
     ]
    }
   ],
   "source": [
    "#Using While loop:\n",
    "l3 = []\n",
    "index = 0\n",
    "while index < 100:\n",
    "    cube = l1[index]**3\n",
    "    if cube % 4 == 0 or cube % 5 == 0:\n",
    "          l3.append(l1[index])\n",
    "    index += 1\n",
    "\n",
    "print(l3) "
   ]
  },
  {
   "cell_type": "markdown",
   "id": "d7f5a6de-512b-4871-8069-ec6c8822722b",
   "metadata": {},
   "source": [
    "#Q.5) Write a program to filter count vowels."
   ]
  },
  {
   "cell_type": "code",
   "execution_count": 52,
   "id": "dff00611-37e8-4cac-89d2-3569494fc51b",
   "metadata": {},
   "outputs": [
    {
     "name": "stdout",
     "output_type": "stream",
     "text": [
      "Number of vowels are present in string: 11\n"
     ]
    }
   ],
   "source": [
    "string = \"I want to become a data scientist\"\n",
    "count = 0\n",
    "for i in string:\n",
    "    if i in ['a', 'e', 'i', 'o', 'u']:\n",
    "        count += 1\n",
    "print(\"Number of vowels are present in string:\",count)\n",
    "        "
   ]
  }
 ],
 "metadata": {
  "kernelspec": {
   "display_name": "Python 3 (ipykernel)",
   "language": "python",
   "name": "python3"
  },
  "language_info": {
   "codemirror_mode": {
    "name": "ipython",
    "version": 3
   },
   "file_extension": ".py",
   "mimetype": "text/x-python",
   "name": "python",
   "nbconvert_exporter": "python",
   "pygments_lexer": "ipython3",
   "version": "3.10.8"
  }
 },
 "nbformat": 4,
 "nbformat_minor": 5
}
